{
 "nbformat": 4,
 "nbformat_minor": 2,
 "metadata": {
  "language_info": {
   "name": "python",
   "codemirror_mode": {
    "name": "ipython",
    "version": 3
   }
  },
  "orig_nbformat": 2,
  "file_extension": ".py",
  "mimetype": "text/x-python",
  "name": "python",
  "npconvert_exporter": "python",
  "pygments_lexer": "ipython3",
  "version": 3
 },
 "cells": [
  {
   "cell_type": "markdown",
   "execution_count": null,
   "metadata": {},
   "outputs": [],
   "source": [
    "We will create a Subject who whill have a sex, an age category (\"young\", \"old\") and an \"expression level\" (of a gene let's say)"
   ]
  },
  {
   "cell_type": "code",
   "execution_count": 1,
   "metadata": {},
   "outputs": [
    {
     "data": {
      "text/plain": "(<Sex.male: 1>, <Age.young: 0>)"
     },
     "execution_count": 1,
     "metadata": {},
     "output_type": "execute_result"
    }
   ],
   "source": [
    "from enum import Enum\n",
    "\n",
    "class Subject(object):\n",
    "\n",
    "    def __init__(self, sex, age):\n",
    "        self.sex = self.Sex[sex]\n",
    "        self.age = self.Age[age]\n",
    "\n",
    "    # define types to prevent typos (\"M\" vs \"m\" vs \"Male\") etc\n",
    "    class Sex(Enum):\n",
    "        female = 0\n",
    "        male = 1\n",
    "    # as above with age category\n",
    "    class Age(Enum):\n",
    "        young = 0\n",
    "        old = 1\n",
    "\n",
    "me = Subject(sex=\"male\", age=\"young\")\n",
    "me.sex, me.age"
   ]
  },
  {
   "cell_type": "code",
   "execution_count": 8,
   "metadata": {},
   "outputs": [
    {
     "data": {
      "text/plain": "<Sex.male: 1>"
     },
     "execution_count": 8,
     "metadata": {},
     "output_type": "execute_result"
    }
   ],
   "source": [
    "class Human(object):\n",
    "    class Sex(Enum):\n",
    "        female = 0\n",
    "        male = 1\n",
    "    class Age(Enum):\n",
    "        young = 0\n",
    "        old = 1\n",
    "\n",
    "class HumanSubject(Human):\n",
    "    def __init__(self, sex):\n",
    "        self.sex = self.Sex[sex]\n",
    "\n",
    "me = HumanSubject(sex=\"male\")\n",
    "me.sex"
   ]
  }
 ]
}