{
 "nbformat": 4,
 "nbformat_minor": 2,
 "metadata": {
  "language_info": {
   "name": "python",
   "codemirror_mode": {
    "name": "ipython",
    "version": 3
   }
  },
  "orig_nbformat": 2,
  "file_extension": ".py",
  "mimetype": "text/x-python",
  "name": "python",
  "npconvert_exporter": "python",
  "pygments_lexer": "ipython3",
  "version": 3
 },
 "cells": [
  {
   "cell_type": "markdown",
   "execution_count": null,
   "metadata": {},
   "outputs": [],
   "source": [
    "We will create a Subject who whill have a sex, an age category (\"young\", \"old\") and an \"expression level\" (of a gene let's say)"
   ]
  },
  {
   "cell_type": "code",
   "execution_count": 12,
   "metadata": {},
   "outputs": [
    {
     "data": {
      "text/plain": "(<Sex.male: 1>, <Age.old: 1>, True, 5.992775448915152)"
     },
     "execution_count": 12,
     "metadata": {},
     "output_type": "execute_result"
    }
   ],
   "source": [
    "import random\n",
    "from enum import Enum\n",
    "\n",
    "# some traits we want people in our \"trial\" to have\n",
    "class Human(object):\n",
    "\n",
    "    # define sex and age as types to prevent typos \"M\", \"m\" \"Male\"\n",
    "    class Sex(Enum):\n",
    "        female = 0\n",
    "        male = 1\n",
    "        \n",
    "    class Age(Enum):\n",
    "        young = 0\n",
    "        old = 1\n",
    "\n",
    "# a subject exhibiting the human traits\n",
    "class Subject(Human):\n",
    "\n",
    "    # takes inputs for age, sex, expression level\n",
    "    def __init__(self, sexInput, ageInput, highExpression=None):\n",
    "        self.sex = self.Sex[sexInput]\n",
    "        self.age = self.Age[ageInput]\n",
    "        self.expressionLevel = highExpression\n",
    "        # expression leve is 3-7 if low...\n",
    "        if highExpression == False:\n",
    "            self.expressionValue = random.uniform(3,7)\n",
    "            # ...5,10\n",
    "        else:\n",
    "             self.expressionValue = random.uniform(5,10)\n",
    "\n",
    "me = Subject(sexInput = \"male\", ageInput = \"old\", highExpression=True)\n",
    "me.sex, me.age, me.expressionLevel, me.expressionValue"
   ]
  },
  {
   "cell_type": "code",
   "execution_count": 8,
   "metadata": {},
   "outputs": [
    {
     "data": {
      "text/plain": "<Sex.male: 1>"
     },
     "execution_count": 8,
     "metadata": {},
     "output_type": "execute_result"
    }
   ],
   "source": []
  }
 ]
}